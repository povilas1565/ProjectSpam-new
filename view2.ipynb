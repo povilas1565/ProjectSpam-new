{
 "cells": [
  {
   "cell_type": "code",
   "execution_count": 1,
   "metadata": {},
   "outputs": [],
   "source": [
    "from store.accounts_store import AccountsStore\n",
    "from account_actions.telethon_account import TelethonAccount"
   ]
  },
  {
   "cell_type": "code",
   "execution_count": 2,
   "metadata": {},
   "outputs": [
    {
     "name": "stderr",
     "output_type": "stream",
     "text": [
      "\u001b[32m2023-10-26 12:25:52.302\u001b[0m | \u001b[1mINFO    \u001b[0m | \u001b[36maccount_actions.account_loader\u001b[0m:\u001b[36mlogin_to_account\u001b[0m:\u001b[36m23\u001b[0m - \u001b[1mПодгружаем tdata E:/accounts/2/tdata\u001b[0m\n",
      "\u001b[32m2023-10-26 12:25:52.305\u001b[0m | \u001b[33m\u001b[1mWARNING \u001b[0m | \u001b[36mopentele.td.account\u001b[0m:\u001b[36mread\u001b[0m:\u001b[36m215\u001b[0m - \u001b[33m\u001b[1mUnknown key type in encrypted map: 23\u001b[0m\n",
      "\u001b[32m2023-10-26 12:25:52.305\u001b[0m | \u001b[33m\u001b[1mWARNING \u001b[0m | \u001b[36mopentele.td.account\u001b[0m:\u001b[36mread\u001b[0m:\u001b[36m215\u001b[0m - \u001b[33m\u001b[1mUnknown key type in encrypted map: 0\u001b[0m\n",
      "\u001b[32m2023-10-26 12:25:52.310\u001b[0m | \u001b[33m\u001b[1mWARNING \u001b[0m | \u001b[36mopentele.td.account\u001b[0m:\u001b[36mread\u001b[0m:\u001b[36m215\u001b[0m - \u001b[33m\u001b[1mUnknown key type in encrypted map: 0\u001b[0m\n",
      "\u001b[32m2023-10-26 12:25:52.311\u001b[0m | \u001b[33m\u001b[1mWARNING \u001b[0m | \u001b[36mopentele.td.account\u001b[0m:\u001b[36mread\u001b[0m:\u001b[36m215\u001b[0m - \u001b[33m\u001b[1mUnknown key type in encrypted map: 937303411\u001b[0m\n",
      "\u001b[32m2023-10-26 12:25:52.312\u001b[0m | \u001b[33m\u001b[1mWARNING \u001b[0m | \u001b[36mopentele.td.account\u001b[0m:\u001b[36mread\u001b[0m:\u001b[36m215\u001b[0m - \u001b[33m\u001b[1mUnknown key type in encrypted map: 2897425088\u001b[0m\n",
      "\u001b[32m2023-10-26 12:25:52.313\u001b[0m | \u001b[33m\u001b[1mWARNING \u001b[0m | \u001b[36mopentele.td.account\u001b[0m:\u001b[36mread\u001b[0m:\u001b[36m215\u001b[0m - \u001b[33m\u001b[1mUnknown key type in encrypted map: 0\u001b[0m\n",
      "\u001b[32m2023-10-26 12:25:52.313\u001b[0m | \u001b[33m\u001b[1mWARNING \u001b[0m | \u001b[36mopentele.td.account\u001b[0m:\u001b[36mread\u001b[0m:\u001b[36m215\u001b[0m - \u001b[33m\u001b[1mUnknown key type in encrypted map: 0\u001b[0m\n"
     ]
    },
    {
     "name": "stdout",
     "output_type": "stream",
     "text": [
      "|---------+------------+----------+------------+--------+----------------------------+--------------|\n",
      "|         |   Device   | Platform |   System   | API_ID |          App name          | Official App |\n",
      "|---------+------------+----------+------------+--------+----------------------------+--------------|\n",
      "| Current |  Desktop   |          | Windows 10 |  2040  | Telegram Desktop 3.4.3 x64 |      ✔       |\n",
      "|---------+------------+----------+------------+--------+----------------------------+--------------|\n",
      "|    1    | Chrome 113 | Windows  |            |   22   |     Telegram Widgets       |      ✔       |\n",
      "|---------+------------+----------+------------+--------+----------------------------+--------------|\n",
      "loaded E:/accounts/2/\n"
     ]
    }
   ],
   "source": [
    "account_path = \"E:/accounts/2/\" # папка с аккаунтами\n",
    "\n",
    "\n",
    "async def onload(path):\n",
    "    print(f\"loaded\", path)\n",
    "    \n",
    "async def onerror(path, error):\n",
    "    print(f\"error\", error)\n",
    "\n",
    "\n",
    "loader = AccountsStore(max_login_accounts=1, entered_callback=onload, fail_enter_callback=onerror)\n",
    "\n",
    "await loader.add_account([account_path])"
   ]
  },
  {
   "cell_type": "code",
   "execution_count": 3,
   "metadata": {},
   "outputs": [
    {
     "name": "stdout",
     "output_type": "stream",
     "text": [
      "[6143288697]\n"
     ]
    }
   ],
   "source": [
    "print(await loader.get_accounts())"
   ]
  }
 ],
 "metadata": {
  "kernelspec": {
   "display_name": "Python 3",
   "language": "python",
   "name": "python3"
  },
  "language_info": {
   "codemirror_mode": {
    "name": "ipython",
    "version": 3
   },
   "file_extension": ".py",
   "mimetype": "text/x-python",
   "name": "python",
   "nbconvert_exporter": "python",
   "pygments_lexer": "ipython3",
   "version": "3.11.5"
  }
 },
 "nbformat": 4,
 "nbformat_minor": 2
}
