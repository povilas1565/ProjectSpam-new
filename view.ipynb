{
 "cells": [
  {
   "cell_type": "code",
   "execution_count": 2,
   "metadata": {},
   "outputs": [],
   "source": [
    "from account_actions.account_loader import AccountsLoader\n",
    "from account_actions.telethon_account import TelethonAccount\n",
    "import asyncio"
   ]
  },
  {
   "cell_type": "code",
   "execution_count": 3,
   "metadata": {},
   "outputs": [
    {
     "name": "stderr",
     "output_type": "stream",
     "text": [
      "\u001b[32m2023-10-26 13:45:53.442\u001b[0m | \u001b[1mINFO    \u001b[0m | \u001b[36maccount_actions.account_loader\u001b[0m:\u001b[36mlogin_to_account\u001b[0m:\u001b[36m23\u001b[0m - \u001b[1mПодгружаем tdata E:/accounts/2/tdata\u001b[0m\n",
      "\u001b[32m2023-10-26 13:45:53.445\u001b[0m | \u001b[33m\u001b[1mWARNING \u001b[0m | \u001b[36mopentele.td.account\u001b[0m:\u001b[36mread\u001b[0m:\u001b[36m215\u001b[0m - \u001b[33m\u001b[1mUnknown key type in encrypted map: 23\u001b[0m\n",
      "\u001b[32m2023-10-26 13:45:53.445\u001b[0m | \u001b[33m\u001b[1mWARNING \u001b[0m | \u001b[36mopentele.td.account\u001b[0m:\u001b[36mread\u001b[0m:\u001b[36m215\u001b[0m - \u001b[33m\u001b[1mUnknown key type in encrypted map: 0\u001b[0m\n",
      "\u001b[32m2023-10-26 13:45:53.445\u001b[0m | \u001b[33m\u001b[1mWARNING \u001b[0m | \u001b[36mopentele.td.account\u001b[0m:\u001b[36mread\u001b[0m:\u001b[36m215\u001b[0m - \u001b[33m\u001b[1mUnknown key type in encrypted map: 0\u001b[0m\n",
      "\u001b[32m2023-10-26 13:45:53.445\u001b[0m | \u001b[33m\u001b[1mWARNING \u001b[0m | \u001b[36mopentele.td.account\u001b[0m:\u001b[36mread\u001b[0m:\u001b[36m215\u001b[0m - \u001b[33m\u001b[1mUnknown key type in encrypted map: 937303411\u001b[0m\n",
      "\u001b[32m2023-10-26 13:45:53.450\u001b[0m | \u001b[33m\u001b[1mWARNING \u001b[0m | \u001b[36mopentele.td.account\u001b[0m:\u001b[36mread\u001b[0m:\u001b[36m215\u001b[0m - \u001b[33m\u001b[1mUnknown key type in encrypted map: 2897425088\u001b[0m\n",
      "\u001b[32m2023-10-26 13:45:53.451\u001b[0m | \u001b[33m\u001b[1mWARNING \u001b[0m | \u001b[36mopentele.td.account\u001b[0m:\u001b[36mread\u001b[0m:\u001b[36m215\u001b[0m - \u001b[33m\u001b[1mUnknown key type in encrypted map: 0\u001b[0m\n",
      "\u001b[32m2023-10-26 13:45:53.453\u001b[0m | \u001b[33m\u001b[1mWARNING \u001b[0m | \u001b[36mopentele.td.account\u001b[0m:\u001b[36mread\u001b[0m:\u001b[36m215\u001b[0m - \u001b[33m\u001b[1mUnknown key type in encrypted map: 0\u001b[0m\n"
     ]
    },
    {
     "name": "stdout",
     "output_type": "stream",
     "text": [
      "|---------+------------+----------+------------+--------+----------------------------+--------------|\n",
      "|         |   Device   | Platform |   System   | API_ID |          App name          | Official App |\n",
      "|---------+------------+----------+------------+--------+----------------------------+--------------|\n",
      "| Current |  Desktop   |          | Windows 10 |  2040  | Telegram Desktop 3.4.3 x64 |      ✔       |\n",
      "|---------+------------+----------+------------+--------+----------------------------+--------------|\n",
      "|    1    | Chrome 113 | Windows  |            |   22   |     Telegram Widgets       |      ✔       |\n",
      "|---------+------------+----------+------------+--------+----------------------------+--------------|\n",
      "loaded E:/accounts/2/\n"
     ]
    }
   ],
   "source": [
    "account_path = \"E:/accounts/2/\" # папка с аккаунтами\n",
    "\n",
    "\n",
    "async def onload(path, client):\n",
    "    print(f\"loaded\", path)\n",
    "    \n",
    "async def onerror(path, error):\n",
    "    print(f\"error\", error)\n",
    "\n",
    "loader = AccountsLoader(base_path=\"\", load_callback=onload,\n",
    "                        error_callback=onerror, limit=asyncio.Semaphore(1))\n",
    "\n",
    "client = await loader.login_to_account(account_path)\n",
    "\n",
    "tclient = TelethonAccount(asyncio.Semaphore(1), client)"
   ]
  },
  {
   "cell_type": "code",
   "execution_count": 6,
   "metadata": {},
   "outputs": [
    {
     "data": {
      "text/plain": [
       "[<telethon.tl.patched.Message at 0x1c9c1134650>,\n",
       " <telethon.tl.patched.Message at 0x1c9c1138850>]"
      ]
     },
     "execution_count": 6,
     "metadata": {},
     "output_type": "execute_result"
    }
   ],
   "source": [
    "await client['client'].send_message(entity=\"@binancelover123\", message=\"Привет\", file=[\"m.jpg\", \"m.jpg\"])"
   ]
  },
  {
   "cell_type": "code",
   "execution_count": 14,
   "metadata": {},
   "outputs": [
    {
     "name": "stdout",
     "output_type": "stream",
     "text": [
      "None\n"
     ]
    }
   ],
   "source": [
    "print(client['client'].session.close())"
   ]
  },
  {
   "cell_type": "code",
   "execution_count": 7,
   "metadata": {},
   "outputs": [
    {
     "name": "stdout",
     "output_type": "stream",
     "text": [
      "['FromTDesktop', 'GetCurrentSession', 'GetSessions', 'PrintSessions', 'QRLoginToNewClient', 'TerminateAllSessions', 'TerminateSession', 'ToTDesktop', 'UserId', '__TelegramClient____init__', '__abstractmethods__', '__aenter__', '__aexit__', '__call__', '__class__', '__delattr__', '__dict__', '__dir__', '__doc__', '__enter__', '__eq__', '__exit__', '__format__', '__ge__', '__getattribute__', '__getstate__', '__gt__', '__hash__', '__init__', '__init_subclass__', '__le__', '__lt__', '__module__', '__ne__', '__new__', '__reduce__', '__reduce_ex__', '__repr__', '__setattr__', '__sizeof__', '__slots__', '__str__', '__subclasshook__', '__version__', '__weakref__', '_abc_impl', '_albums', '_auth_key_callback', '_authorized', '_auto_reconnect', '_borrow_exported_sender', '_borrow_sender_lock', '_borrowed_senders', '_call', '_catch_up', '_cdn_config', '_clean_exported_senders', '_config', '_connection', '_connection_retries', '_conversations', '_create_exported_sender', '_disconnect', '_disconnect_coro', '_dispatch_event', '_dispatch_update', '_download_cached_photo_size', '_download_contact', '_download_document', '_download_file', '_download_photo', '_download_web_document', '_entity_cache_limit', '_event_builders', '_event_handler_tasks', '_file_to_media', '_flood_sleep_threshold', '_flood_waited_requests', '_get_cdn_client', '_get_comment_data', '_get_dc', '_get_entity_from_string', '_get_input_dialog', '_get_input_notify', '_get_kind_and_names', '_get_peer', '_get_proper_filename', '_get_response_message', '_get_thumb', '_handle_auto_reconnect', '_init_request', '_iter_download', '_keepalive_handle', '_keepalive_loop', '_last_request', '_local_addr', '_log', '_loop', '_mb_entity_cache', '_megagroup_cache', '_message_box', '_no_updates', '_on_login', '_parse_message_text', '_parse_mode', '_parse_phone_and_hash', '_phone', '_phone_code_hash', '_pin', '_preprocess_updates', '_proxy', '_raise_last_call_error', '_replace_with_mention', '_request_retries', '_retry_delay', '_return_exported_sender', '_run_until_disconnected', '_save_states_and_entities', '_self_id', '_send_album', '_sender', '_sequential_updates', '_start', '_switch_dc', '_timeout', '_tos', '_update_loop', '_updates_error', '_updates_handle', '_updates_queue', '_use_ipv6', '_user_id', 'action', 'add_event_handler', 'api_hash', 'api_id', 'build_reply_markup', 'catch_up', 'connect', 'conversation', 'delete_dialog', 'delete_messages', 'disconnect', 'disconnected', 'download_file', 'download_media', 'download_profile_photo', 'edit_2fa', 'edit_admin', 'edit_folder', 'edit_message', 'edit_permissions', 'end_takeout', 'flood_sleep_threshold', 'forward_messages', 'get_admin_log', 'get_dialogs', 'get_drafts', 'get_entity', 'get_input_entity', 'get_me', 'get_messages', 'get_participants', 'get_peer_id', 'get_permissions', 'get_profile_photos', 'get_stats', 'inline_query', 'is_bot', 'is_connected', 'is_official_app', 'is_user_authorized', 'iter_admin_log', 'iter_dialogs', 'iter_download', 'iter_drafts', 'iter_messages', 'iter_participants', 'iter_profile_photos', 'kick_participant', 'list_event_handlers', 'log_out', 'loop', 'on', 'parse_mode', 'pin_message', 'qr_login', 'remove_event_handler', 'run_until_disconnected', 'send_code_request', 'send_file', 'send_message', 'send_read_acknowledge', 'session', 'set_proxy', 'set_receive_updates', 'sign_in', 'sign_up', 'start', 'takeout', 'unpin_message', 'upload_file']\n"
     ]
    }
   ],
   "source": [
    "print(dir(client['client']))"
   ]
  },
  {
   "cell_type": "code",
   "execution_count": 5,
   "metadata": {},
   "outputs": [],
   "source": [
    "del client\n",
    "del tclient"
   ]
  }
 ],
 "metadata": {
  "kernelspec": {
   "display_name": "Python 3",
   "language": "python",
   "name": "python3"
  },
  "language_info": {
   "codemirror_mode": {
    "name": "ipython",
    "version": 3
   },
   "file_extension": ".py",
   "mimetype": "text/x-python",
   "name": "python",
   "nbconvert_exporter": "python",
   "pygments_lexer": "ipython3",
   "version": "3.11.5"
  }
 },
 "nbformat": 4,
 "nbformat_minor": 2
}
